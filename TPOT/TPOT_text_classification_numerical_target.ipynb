{
 "cells": [
  {
   "cell_type": "code",
   "execution_count": 4,
   "id": "055f2a59",
   "metadata": {
    "scrolled": true
   },
   "outputs": [
    {
     "name": "stderr",
     "output_type": "stream",
     "text": [
      "Some weights of the model checkpoint at bert-base-uncased were not used when initializing BertModel: ['cls.predictions.bias', 'cls.predictions.transform.LayerNorm.bias', 'cls.predictions.transform.dense.weight', 'cls.predictions.transform.dense.bias', 'cls.seq_relationship.weight', 'cls.seq_relationship.bias', 'cls.predictions.transform.LayerNorm.weight']\n",
      "- This IS expected if you are initializing BertModel from the checkpoint of a model trained on another task or with another architecture (e.g. initializing a BertForSequenceClassification model from a BertForPreTraining model).\n",
      "- This IS NOT expected if you are initializing BertModel from the checkpoint of a model that you expect to be exactly identical (initializing a BertForSequenceClassification model from a BertForSequenceClassification model).\n",
      "Version 0.12.0 of tpot is outdated. Version 0.12.1 was released Tuesday August 15, 2023.\n"
     ]
    },
    {
     "data": {
      "application/vnd.jupyter.widget-view+json": {
       "model_id": "",
       "version_major": 2,
       "version_minor": 0
      },
      "text/plain": [
       "Optimization Progress:   0%|          | 0/50 [00:00<?, ?pipeline/s]"
      ]
     },
     "metadata": {},
     "output_type": "display_data"
    },
    {
     "name": "stdout",
     "output_type": "stream",
     "text": [
      "\n",
      "Generation 1 - Current best internal CV score: 0.5875\n",
      "\n",
      "Generation 2 - Current best internal CV score: 0.5875\n",
      "\n",
      "Generation 3 - Current best internal CV score: 0.5875\n",
      "\n",
      "Generation 4 - Current best internal CV score: 0.5875\n",
      "\n",
      "Generation 5 - Current best internal CV score: 0.6125\n",
      "\n",
      "Best pipeline: SGDClassifier(input_matrix, alpha=0.01, eta0=0.1, fit_intercept=True, l1_ratio=1.0, learning_rate=constant, loss=modified_huber, penalty=elasticnet, power_t=0.1)\n",
      "Accuracy 0.4\n"
     ]
    }
   ],
   "source": [
    "from transformers import BertTokenizer, BertModel\n",
    "from sklearn.model_selection import train_test_split\n",
    "from tpot import TPOTClassifier\n",
    "from sklearn.preprocessing import LabelEncoder\n",
    "import pandas as pd\n",
    "import numpy as np\n",
    "import torch\n",
    "\n",
    "# Load the dataset label: review text, \":\" is a separator\n",
    "data = []\n",
    "with open('C:/Users/dzyyu/Arbeit/MasterArbeit/MASTERARBEIT/Datasets/classification/Review/reviewshort.csv', 'r') as file:\n",
    "    for line in file:\n",
    "        if ':' in line:\n",
    "            label, text = line.strip().split(':', 1)\n",
    "            data.append({'label': label, 'text': text})\n",
    "\n",
    "# Convert to a pandas DataFrame\n",
    "df = pd.DataFrame(data)\n",
    "\n",
    "# Tokenization and encoding for text with BERT. TPOT does not provide text encoding\n",
    "tokenizer = BertTokenizer.from_pretrained('bert-base-uncased')\n",
    "model = BertModel.from_pretrained('bert-base-uncased')\n",
    "\n",
    "def get_bert_embedding(text):\n",
    "    inputs = tokenizer(text, return_tensors='pt', padding='max_length', truncation=True, max_length=512)\n",
    "    with torch.no_grad():\n",
    "        outputs = model(**inputs)\n",
    "    return outputs['last_hidden_state'][:,0,:].numpy()\n",
    "\n",
    "# Apply BERT encoding to the text\n",
    "df['embedding'] = df['text'].apply(get_bert_embedding)\n",
    "\n",
    "# Flatten the embeddings\n",
    "X = np.vstack(df['embedding'].to_numpy())\n",
    "\n",
    "# Train-test split\n",
    "X_train, X_test, y_train, y_test = train_test_split(X, y, test_size=0.2, random_state=42)\n",
    "\n",
    "# Create a TPOT classifier without custom configuration\n",
    "tpot = TPOTClassifier(generations=5, population_size=50, verbosity=2, max_time_mins=15)\n",
    "\n",
    "# Fit the classifier on the training data\n",
    "tpot.fit(X_train, y_train)\n",
    "\n",
    "# Evaluate the model\n",
    "print(\"Accuracy\", tpot.score(X_test, y_test))\n",
    "\n",
    "# Export the best pipeline\n",
    "tpot.export('tpot_2008_pipeline.py')\n"
   ]
  },
  {
   "cell_type": "code",
   "execution_count": null,
   "id": "bb6b0f25",
   "metadata": {},
   "outputs": [],
   "source": []
  },
  {
   "cell_type": "code",
   "execution_count": 6,
   "id": "124ceaea",
   "metadata": {
    "scrolled": true
   },
   "outputs": [
    {
     "name": "stderr",
     "output_type": "stream",
     "text": [
      "Some weights of the model checkpoint at bert-base-uncased were not used when initializing BertModel: ['cls.predictions.bias', 'cls.predictions.transform.LayerNorm.bias', 'cls.predictions.transform.dense.weight', 'cls.predictions.transform.dense.bias', 'cls.seq_relationship.weight', 'cls.seq_relationship.bias', 'cls.predictions.transform.LayerNorm.weight']\n",
      "- This IS expected if you are initializing BertModel from the checkpoint of a model trained on another task or with another architecture (e.g. initializing a BertForSequenceClassification model from a BertForPreTraining model).\n",
      "- This IS NOT expected if you are initializing BertModel from the checkpoint of a model that you expect to be exactly identical (initializing a BertForSequenceClassification model from a BertForSequenceClassification model).\n"
     ]
    },
    {
     "name": "stdout",
     "output_type": "stream",
     "text": [
      "[3 4 3 3 4 1 3 4 3 2 4 1 3 1 2 4 4 3 4 4 4 4 4 1 1]\n",
      "[4 4 4 3 3 3 4 3 4 4 3 3 4 4 3 4 4 4 4 4 4 4 4 4 2]\n",
      "Accuracy Score: 36.00%\n"
     ]
    }
   ],
   "source": [
    "import pandas as pd\n",
    "from sklearn.model_selection import train_test_split\n",
    "from sklearn.svm import LinearSVC\n",
    "from sklearn.linear_model import SGDClassifier\n",
    "import numpy as np\n",
    "from transformers import BertTokenizer, BertModel\n",
    "from sklearn.model_selection import train_test_split\n",
    "from tpot import TPOTClassifier\n",
    "from sklearn.preprocessing import LabelEncoder\n",
    "import pandas as pd\n",
    "import numpy as np\n",
    "import torch\n",
    "from sklearn.metrics import accuracy_score\n",
    "\n",
    "# Prediction done with the model choosen by TPOT. Text encoding done manually, since TPOT doe not support text encoding.\n",
    "data = []\n",
    "with open('C:/Users/dzyyu/Arbeit/MasterArbeit/MASTERARBEIT/Datasets/classification/Review/reviewshort.csv', 'r') as file:\n",
    "    for line in file:\n",
    "        if ':' in line:\n",
    "            label, text = line.strip().split(':', 1)\n",
    "            data.append({'label': label, 'text': text})\n",
    "\n",
    "# Convert to a pandas DataFrame\n",
    "df = pd.DataFrame(data)\n",
    "\n",
    "# Tokenization and encoding\n",
    "tokenizer = BertTokenizer.from_pretrained('bert-base-uncased')\n",
    "model = BertModel.from_pretrained('bert-base-uncased')\n",
    "\n",
    "#encodig with BERT\n",
    "def get_bert_embedding(text):\n",
    "    inputs = tokenizer(text, return_tensors='pt', padding='max_length', truncation=True, max_length=512)\n",
    "    with torch.no_grad():\n",
    "        outputs = model(**inputs)\n",
    "    return outputs['last_hidden_state'][:,0,:].numpy()\n",
    "\n",
    "# Apply BERT encoding to the text\n",
    "df['embedding'] = df['text'].apply(get_bert_embedding)\n",
    "\n",
    "# Flatten the embeddings\n",
    "X = np.vstack(df['embedding'].to_numpy())\n",
    "\n",
    "# Convert labels into numeric format\n",
    "#le = LabelEncoder()\n",
    "#y = le.fit_transform(df['label'])\n",
    "#tpot_data=df\n",
    "\n",
    "# Train-test split\n",
    "training_features, testing_features, training_target, testing_target = \\\n",
    "            train_test_split(X, y, random_state=None)\n",
    "\n",
    "# use the algorithm choosen by TPOT   \n",
    "exported_pipeline = SGDClassifier(input_matrix, alpha=0.01, eta0=0.1, fit_intercept=True, l1_ratio=1.0, learning_rate=constant, loss=modified_huber, penalty=elasticnet, power_t=0.1)\n",
    "exported_pipeline.fit(training_features, training_target)\n",
    "results = exported_pipeline.predict(testing_features)\n",
    "print(testing_target)\n",
    "print(results)\n",
    "\n",
    "#decode results\n",
    "#decoded_results = le.inverse_transform(results)\n",
    "#print(decoded_results)\n",
    "accuracy = accuracy_score(testing_target, results)\n",
    "print(f\"Accuracy Score: {accuracy * 100:.2f}%\")"
   ]
  },
  {
   "cell_type": "code",
   "execution_count": null,
   "id": "fc20d04d",
   "metadata": {},
   "outputs": [],
   "source": []
  }
 ],
 "metadata": {
  "kernelspec": {
   "display_name": "Python 3 (ipykernel)",
   "language": "python",
   "name": "python3"
  },
  "language_info": {
   "codemirror_mode": {
    "name": "ipython",
    "version": 3
   },
   "file_extension": ".py",
   "mimetype": "text/x-python",
   "name": "python",
   "nbconvert_exporter": "python",
   "pygments_lexer": "ipython3",
   "version": "3.8.2"
  }
 },
 "nbformat": 4,
 "nbformat_minor": 5
}
